{
 "cells": [
  {
   "cell_type": "code",
   "execution_count": 1,
   "id": "initial_id",
   "metadata": {
    "collapsed": true,
    "ExecuteTime": {
     "end_time": "2023-11-11T16:29:28.071736Z",
     "start_time": "2023-11-11T16:29:27.634286Z"
    }
   },
   "outputs": [],
   "source": [
    "import pandas as pd\n",
    "\n",
    "import os\n",
    "import time\n",
    "from collections import defaultdict\n",
    "\n",
    "from dotenv import load_dotenv\n",
    "\n",
    "import psycopg2\n",
    "from psycopg2.extras import NamedTupleCursor\n",
    "\n",
    "from pymongo import MongoClient\n",
    "\n",
    "from neo4j import GraphDatabase\n",
    "\n",
    "import solutionbase\n",
    "from solutions import RelationalSolution, DocumentSolution, GraphSolution"
   ]
  },
  {
   "cell_type": "code",
   "execution_count": 2,
   "outputs": [],
   "source": [
    "\n",
    "load_dotenv();"
   ],
   "metadata": {
    "collapsed": false,
    "ExecuteTime": {
     "end_time": "2023-11-11T16:29:28.076038Z",
     "start_time": "2023-11-11T16:29:28.071990Z"
    }
   },
   "id": "cc98ec580667b43a"
  },
  {
   "cell_type": "code",
   "execution_count": 3,
   "outputs": [],
   "source": [
    "relational_solution = RelationalSolution(psycopg2.connect(\n",
    "    user = os.getenv(\"POSTGRES_USER\"),\n",
    "    password = os.getenv(\"POSTGRES_PASSWORD\"),\n",
    "    host = 'localhost',\n",
    "    database = os.getenv(\"POSTGRES_DB\"),\n",
    "    cursor_factory=NamedTupleCursor,\n",
    "))\n",
    "\n",
    "document_solution = DocumentSolution(MongoClient('mongodb://localhost'))\n",
    "\n",
    "graph_solution = GraphSolution(GraphDatabase.driver('bolt://localhost:7687', auth=('neo4j', 'bitnami1')))\n",
    "\n",
    "all_solutions = [\n",
    "    ('реляційна', relational_solution),\n",
    "    ('документна', document_solution),\n",
    "    ('графова', graph_solution),\n",
    "]"
   ],
   "metadata": {
    "collapsed": false,
    "ExecuteTime": {
     "end_time": "2023-11-11T16:29:28.154414Z",
     "start_time": "2023-11-11T16:29:28.075798Z"
    }
   },
   "id": "beafa4b1f2dced3"
  },
  {
   "cell_type": "code",
   "execution_count": 4,
   "outputs": [],
   "source": [
    "def test_cases(sol: solutionbase.Solution):\n",
    "    return [\n",
    "        ('забрати рюзюме', lambda: sol.get_resume_for_user('User_1')),\n",
    "        ('забрати всі хоббі які існують в резюме', lambda: sol.get_all_hobbies_from_resumes()),\n",
    "        ('забрати всі міста, що зустрічаються в резюме', lambda: sol.get_all_cities_from_resumes()),\n",
    "        ('забрати хоббі всіх здобувачів, що мешкають в заданому місті', lambda: sol.get_all_hobbies_of_users_from_city('City_1')),\n",
    "        ('забрати всіх здобувачів, що працювали в одному закладі', lambda: sol.get_all_users_from_same_company()),\n",
    "    ]"
   ],
   "metadata": {
    "collapsed": false,
    "ExecuteTime": {
     "end_time": "2023-11-11T16:29:28.158562Z",
     "start_time": "2023-11-11T16:29:28.154190Z"
    }
   },
   "id": "de3c2708a339de46"
  },
  {
   "cell_type": "markdown",
   "source": [
    "# Первіримо коректність запитів на даних малого обʼєму"
   ],
   "metadata": {
    "collapsed": false
   },
   "id": "85f5149a876d8419"
  },
  {
   "cell_type": "code",
   "execution_count": 5,
   "outputs": [],
   "source": [
    "generated_data_small = solutionbase.generate(size=5)\n",
    "for _, solution in all_solutions:\n",
    "    solution.populate(generated_data_small)"
   ],
   "metadata": {
    "collapsed": false,
    "ExecuteTime": {
     "end_time": "2023-11-11T16:29:29.485555Z",
     "start_time": "2023-11-11T16:29:29.260818Z"
    }
   },
   "id": "3b22d97c4b60fefd"
  },
  {
   "cell_type": "code",
   "execution_count": 6,
   "outputs": [],
   "source": [
    "query_result_table = defaultdict(defaultdict)\n",
    "for solution_name, solution in all_solutions:\n",
    "    for test_name, test_func in test_cases(solution):\n",
    "        query_result_table[solution_name][test_name] = test_func()"
   ],
   "metadata": {
    "collapsed": false,
    "ExecuteTime": {
     "end_time": "2023-11-11T16:29:29.803501Z",
     "start_time": "2023-11-11T16:29:29.757930Z"
    }
   },
   "id": "c128284ac67085c9"
  },
  {
   "cell_type": "code",
   "execution_count": 7,
   "outputs": [
    {
     "data": {
      "text/plain": "                                                                                            реляційна  \\\nзабрати рюзюме                                                              (1, 1, City_2, Company_1)   \nзабрати всі хоббі які існують в резюме              [(Hobby_0,), (Hobby_1,), (Hobby_2,), (Hobby_3,...   \nзабрати всі міста, що зустрічаються в резюме                                 [City_0, City_1, City_2]   \nзабрати хоббі всіх здобувачів, що мешкають в за...                                 [Hobby_0, Hobby_2]   \nзабрати всіх здобувачів, що працювали в одному ...       [(User_1,), (User_2,), (User_3,), (User_4,)]   \n\n                                                                                           документна  \\\nзабрати рюзюме                                      {'_id': 1, 'hobbies': ['Hobby_1', 'Hobby_3'], ...   \nзабрати всі хоббі які існують в резюме                  [Hobby_0, Hobby_1, Hobby_2, Hobby_3, Hobby_4]   \nзабрати всі міста, що зустрічаються в резюме                                 [City_0, City_1, City_2]   \nзабрати хоббі всіх здобувачів, що мешкають в за...                                 [Hobby_0, Hobby_2]   \nзабрати всіх здобувачів, що працювали в одному ...                   [User_1, User_2, User_3, User_4]   \n\n                                                                                          графова  \nзабрати рюзюме                                                                         (city, id)  \nзабрати всі хоббі які існують в резюме              [Hobby_0, Hobby_1, Hobby_2, Hobby_3, Hobby_4]  \nзабрати всі міста, що зустрічаються в резюме                             [City_0, City_2, City_1]  \nзабрати хоббі всіх здобувачів, що мешкають в за...                             [Hobby_0, Hobby_2]  \nзабрати всіх здобувачів, що працювали в одному ...               [User_2, User_1, User_4, User_3]  ",
      "text/html": "<div>\n<style scoped>\n    .dataframe tbody tr th:only-of-type {\n        vertical-align: middle;\n    }\n\n    .dataframe tbody tr th {\n        vertical-align: top;\n    }\n\n    .dataframe thead th {\n        text-align: right;\n    }\n</style>\n<table border=\"1\" class=\"dataframe\">\n  <thead>\n    <tr style=\"text-align: right;\">\n      <th></th>\n      <th>реляційна</th>\n      <th>документна</th>\n      <th>графова</th>\n    </tr>\n  </thead>\n  <tbody>\n    <tr>\n      <th>забрати рюзюме</th>\n      <td>(1, 1, City_2, Company_1)</td>\n      <td>{'_id': 1, 'hobbies': ['Hobby_1', 'Hobby_3'], ...</td>\n      <td>(city, id)</td>\n    </tr>\n    <tr>\n      <th>забрати всі хоббі які існують в резюме</th>\n      <td>[(Hobby_0,), (Hobby_1,), (Hobby_2,), (Hobby_3,...</td>\n      <td>[Hobby_0, Hobby_1, Hobby_2, Hobby_3, Hobby_4]</td>\n      <td>[Hobby_0, Hobby_1, Hobby_2, Hobby_3, Hobby_4]</td>\n    </tr>\n    <tr>\n      <th>забрати всі міста, що зустрічаються в резюме</th>\n      <td>[City_0, City_1, City_2]</td>\n      <td>[City_0, City_1, City_2]</td>\n      <td>[City_0, City_2, City_1]</td>\n    </tr>\n    <tr>\n      <th>забрати хоббі всіх здобувачів, що мешкають в заданому місті</th>\n      <td>[Hobby_0, Hobby_2]</td>\n      <td>[Hobby_0, Hobby_2]</td>\n      <td>[Hobby_0, Hobby_2]</td>\n    </tr>\n    <tr>\n      <th>забрати всіх здобувачів, що працювали в одному закладі</th>\n      <td>[(User_1,), (User_2,), (User_3,), (User_4,)]</td>\n      <td>[User_1, User_2, User_3, User_4]</td>\n      <td>[User_2, User_1, User_4, User_3]</td>\n    </tr>\n  </tbody>\n</table>\n</div>"
     },
     "execution_count": 7,
     "metadata": {},
     "output_type": "execute_result"
    }
   ],
   "source": [
    "pd.DataFrame(query_result_table)"
   ],
   "metadata": {
    "collapsed": false,
    "ExecuteTime": {
     "end_time": "2023-11-11T16:29:31.055500Z",
     "start_time": "2023-11-11T16:29:31.040368Z"
    }
   },
   "id": "4bfe4c9ff3cf8661"
  },
  {
   "cell_type": "markdown",
   "source": [
    "## Виміряємо час запитів для сгенерованих запитів більшого розміру"
   ],
   "metadata": {
    "collapsed": false
   },
   "id": "8d48e9de3b7cb65c"
  },
  {
   "cell_type": "code",
   "execution_count": 8,
   "outputs": [],
   "source": [
    "generated_data_large = solutionbase.generate(size=1000)\n",
    "for _, solution in all_solutions:\n",
    "    solution.populate(generated_data_large)"
   ],
   "metadata": {
    "collapsed": false,
    "ExecuteTime": {
     "end_time": "2023-11-11T16:29:56.727508Z",
     "start_time": "2023-11-11T16:29:39.280887Z"
    }
   },
   "id": "77f1e0a996bd63e8"
  },
  {
   "cell_type": "code",
   "execution_count": 9,
   "outputs": [],
   "source": [
    "timing_table = defaultdict(defaultdict)\n",
    "for solution_name, solution in all_solutions:\n",
    "    for test_name, test_func in test_cases(solution):\n",
    "        start_time = time.time()\n",
    "        test_func()\n",
    "        end_time = time.time()\n",
    "        timing_table[f\"{solution_name} (мс)\"][test_name] = (end_time - start_time) * 1000"
   ],
   "metadata": {
    "collapsed": false,
    "ExecuteTime": {
     "end_time": "2023-11-11T16:29:56.809468Z",
     "start_time": "2023-11-11T16:29:56.728660Z"
    }
   },
   "id": "276557fa29b6e83b"
  },
  {
   "cell_type": "code",
   "execution_count": 10,
   "outputs": [
    {
     "data": {
      "text/plain": "                                                    реляційна (мс)  \\\nзабрати рюзюме                                            3.072023   \nзабрати всі хоббі які існують в резюме                    3.918886   \nзабрати всі міста, що зустрічаються в резюме              1.372099   \nзабрати хоббі всіх здобувачів, що мешкають в за...        0.912189   \nзабрати всіх здобувачів, що працювали в одному ...        1.771927   \n\n                                                    документна (мс)  \\\nзабрати рюзюме                                             1.353979   \nзабрати всі хоббі які існують в резюме                     1.968861   \nзабрати всі міста, що зустрічаються в резюме               0.898123   \nзабрати хоббі всіх здобувачів, що мешкають в за...         0.550985   \nзабрати всіх здобувачів, що працювали в одному ...         6.048203   \n\n                                                    графова (мс)  \nзабрати рюзюме                                          9.654999  \nзабрати всі хоббі які існують в резюме                  9.696960  \nзабрати всі міста, що зустрічаються в резюме            6.970882  \nзабрати хоббі всіх здобувачів, що мешкають в за...     11.950731  \nзабрати всіх здобувачів, що працювали в одному ...     18.023014  ",
      "text/html": "<div>\n<style scoped>\n    .dataframe tbody tr th:only-of-type {\n        vertical-align: middle;\n    }\n\n    .dataframe tbody tr th {\n        vertical-align: top;\n    }\n\n    .dataframe thead th {\n        text-align: right;\n    }\n</style>\n<table border=\"1\" class=\"dataframe\">\n  <thead>\n    <tr style=\"text-align: right;\">\n      <th></th>\n      <th>реляційна (мс)</th>\n      <th>документна (мс)</th>\n      <th>графова (мс)</th>\n    </tr>\n  </thead>\n  <tbody>\n    <tr>\n      <th>забрати рюзюме</th>\n      <td>3.072023</td>\n      <td>1.353979</td>\n      <td>9.654999</td>\n    </tr>\n    <tr>\n      <th>забрати всі хоббі які існують в резюме</th>\n      <td>3.918886</td>\n      <td>1.968861</td>\n      <td>9.696960</td>\n    </tr>\n    <tr>\n      <th>забрати всі міста, що зустрічаються в резюме</th>\n      <td>1.372099</td>\n      <td>0.898123</td>\n      <td>6.970882</td>\n    </tr>\n    <tr>\n      <th>забрати хоббі всіх здобувачів, що мешкають в заданому місті</th>\n      <td>0.912189</td>\n      <td>0.550985</td>\n      <td>11.950731</td>\n    </tr>\n    <tr>\n      <th>забрати всіх здобувачів, що працювали в одному закладі</th>\n      <td>1.771927</td>\n      <td>6.048203</td>\n      <td>18.023014</td>\n    </tr>\n  </tbody>\n</table>\n</div>"
     },
     "execution_count": 10,
     "metadata": {},
     "output_type": "execute_result"
    }
   ],
   "source": [
    "pd.DataFrame(timing_table)"
   ],
   "metadata": {
    "collapsed": false,
    "ExecuteTime": {
     "end_time": "2023-11-11T16:29:56.815524Z",
     "start_time": "2023-11-11T16:29:56.811785Z"
    }
   },
   "id": "f598a3b031a66d2b"
  }
 ],
 "metadata": {
  "kernelspec": {
   "display_name": "Python 3",
   "language": "python",
   "name": "python3"
  },
  "language_info": {
   "codemirror_mode": {
    "name": "ipython",
    "version": 2
   },
   "file_extension": ".py",
   "mimetype": "text/x-python",
   "name": "python",
   "nbconvert_exporter": "python",
   "pygments_lexer": "ipython2",
   "version": "2.7.6"
  }
 },
 "nbformat": 4,
 "nbformat_minor": 5
}
